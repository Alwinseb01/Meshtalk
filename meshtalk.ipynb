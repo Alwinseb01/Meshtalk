{
  "nbformat": 4,
  "nbformat_minor": 0,
  "metadata": {
    "colab": {
      "name": "meshtalk.ipynb",
      "provenance": [],
      "mount_file_id": "1OklJkrp_6c86nQcG1XpXmRTDmQDz-dU3",
      "authorship_tag": "ABX9TyPPTDmmrKc3JRrgRMZP1rj/",
      "include_colab_link": true
    },
    "kernelspec": {
      "name": "python3",
      "display_name": "Python 3"
    },
    "language_info": {
      "name": "python"
    },
    "accelerator": "GPU",
    "gpuClass": "standard"
  },
  "cells": [
    {
      "cell_type": "markdown",
      "metadata": {
        "id": "view-in-github",
        "colab_type": "text"
      },
      "source": [
        "<a href=\"https://colab.research.google.com/github/Alwinseb01/Meshtalk/blob/main/meshtalk.ipynb\" target=\"_parent\"><img src=\"https://colab.research.google.com/assets/colab-badge.svg\" alt=\"Open In Colab\"/></a>"
      ]
    },
    {
      "cell_type": "code",
      "execution_count": null,
      "metadata": {
        "colab": {
          "base_uri": "https://localhost:8080/"
        },
        "id": "fXIbD8sc8EQy",
        "outputId": "2b438e6d-b3f0-452a-d762-f306f9f129f1"
      },
      "outputs": [
        {
          "output_type": "stream",
          "name": "stdout",
          "text": [
            "Cloning into 'meshtalk'...\n",
            "remote: Enumerating objects: 37, done.\u001b[K\n",
            "remote: Counting objects: 100% (12/12), done.\u001b[K\n",
            "remote: Compressing objects: 100% (11/11), done.\u001b[K\n",
            "remote: Total 37 (delta 8), reused 1 (delta 1), pack-reused 25\u001b[K\n",
            "Unpacking objects: 100% (37/37), done.\n"
          ]
        }
      ],
      "source": [
        "!git clone https://github.com/facebookresearch/meshtalk"
      ]
    },
    {
      "cell_type": "code",
      "source": [
        "!pip install 'git+https://github.com/facebookresearch/pytorch3d.git@stable'\n"
      ],
      "metadata": {
        "colab": {
          "base_uri": "https://localhost:8080/"
        },
        "id": "bmNuKbyv8Hh3",
        "outputId": "f061a982-c75b-47cc-8749-64b6f369638b"
      },
      "execution_count": null,
      "outputs": [
        {
          "output_type": "stream",
          "name": "stdout",
          "text": [
            "Looking in indexes: https://pypi.org/simple, https://us-python.pkg.dev/colab-wheels/public/simple/\n",
            "Collecting git+https://github.com/facebookresearch/pytorch3d.git@stable\n",
            "  Cloning https://github.com/facebookresearch/pytorch3d.git (to revision stable) to /tmp/pip-req-build-_1fci_uk\n",
            "  Running command git clone -q https://github.com/facebookresearch/pytorch3d.git /tmp/pip-req-build-_1fci_uk\n",
            "  Running command git checkout -q 2bd65027ca5c3b87b77d4f05b8eacae58d8d106f\n",
            "Requirement already satisfied: fvcore in /usr/local/lib/python3.7/dist-packages (from pytorch3d==0.6.2) (0.1.5.post20220512)\n",
            "Requirement already satisfied: iopath in /usr/local/lib/python3.7/dist-packages (from pytorch3d==0.6.2) (0.1.10)\n",
            "Requirement already satisfied: numpy in /usr/local/lib/python3.7/dist-packages (from fvcore->pytorch3d==0.6.2) (1.21.6)\n",
            "Requirement already satisfied: yacs>=0.1.6 in /usr/local/lib/python3.7/dist-packages (from fvcore->pytorch3d==0.6.2) (0.1.8)\n",
            "Requirement already satisfied: pyyaml>=5.1 in /usr/local/lib/python3.7/dist-packages (from fvcore->pytorch3d==0.6.2) (6.0)\n",
            "Requirement already satisfied: tqdm in /usr/local/lib/python3.7/dist-packages (from fvcore->pytorch3d==0.6.2) (4.64.0)\n",
            "Requirement already satisfied: termcolor>=1.1 in /usr/local/lib/python3.7/dist-packages (from fvcore->pytorch3d==0.6.2) (1.1.0)\n",
            "Requirement already satisfied: Pillow in /usr/local/lib/python3.7/dist-packages (from fvcore->pytorch3d==0.6.2) (7.1.2)\n",
            "Requirement already satisfied: tabulate in /usr/local/lib/python3.7/dist-packages (from fvcore->pytorch3d==0.6.2) (0.8.10)\n",
            "Requirement already satisfied: typing-extensions in /usr/local/lib/python3.7/dist-packages (from iopath->pytorch3d==0.6.2) (4.1.1)\n",
            "Requirement already satisfied: portalocker in /usr/local/lib/python3.7/dist-packages (from iopath->pytorch3d==0.6.2) (2.5.1)\n",
            "Building wheels for collected packages: pytorch3d\n",
            "  Building wheel for pytorch3d (setup.py) ... \u001b[?25l\u001b[?25hdone\n",
            "  Created wheel for pytorch3d: filename=pytorch3d-0.6.2-cp37-cp37m-linux_x86_64.whl size=30196924 sha256=2a0aba2c25214753b9b319a345db40733fbed7969a395dbc20520b324247ecae\n",
            "  Stored in directory: /tmp/pip-ephem-wheel-cache-cwj3k1gg/wheels/4c/03/f0/326bb241eb86a155a12f217c81e163fbba48424bb84fa22074\n",
            "Successfully built pytorch3d\n",
            "Installing collected packages: pytorch3d\n",
            "  Attempting uninstall: pytorch3d\n",
            "    Found existing installation: pytorch3d 0.3.0\n",
            "    Uninstalling pytorch3d-0.3.0:\n",
            "      Successfully uninstalled pytorch3d-0.3.0\n",
            "Successfully installed pytorch3d-0.6.2\n"
          ]
        }
      ]
    },
    {
      "cell_type": "code",
      "source": [
        "!pip install ffmpeg-python"
      ],
      "metadata": {
        "colab": {
          "base_uri": "https://localhost:8080/"
        },
        "id": "R2vjquul8Q9d",
        "outputId": "274c9afe-505e-461f-ce82-09a8ff0c928c"
      },
      "execution_count": null,
      "outputs": [
        {
          "output_type": "stream",
          "name": "stdout",
          "text": [
            "Looking in indexes: https://pypi.org/simple, https://us-python.pkg.dev/colab-wheels/public/simple/\n",
            "Collecting ffmpeg-python\n",
            "  Downloading ffmpeg_python-0.2.0-py3-none-any.whl (25 kB)\n",
            "Requirement already satisfied: future in /usr/local/lib/python3.7/dist-packages (from ffmpeg-python) (0.16.0)\n",
            "Installing collected packages: ffmpeg-python\n",
            "Successfully installed ffmpeg-python-0.2.0\n"
          ]
        }
      ]
    },
    {
      "cell_type": "code",
      "source": [
        "!pip install torch"
      ],
      "metadata": {
        "colab": {
          "base_uri": "https://localhost:8080/"
        },
        "id": "Dt1KjSFx8Ws2",
        "outputId": "5e558738-8d42-42ba-8058-5f12a2c7f198"
      },
      "execution_count": null,
      "outputs": [
        {
          "output_type": "stream",
          "name": "stdout",
          "text": [
            "Looking in indexes: https://pypi.org/simple, https://us-python.pkg.dev/colab-wheels/public/simple/\n",
            "Requirement already satisfied: torch in /usr/local/lib/python3.7/dist-packages (1.12.0+cu113)\n",
            "Requirement already satisfied: typing-extensions in /usr/local/lib/python3.7/dist-packages (from torch) (4.1.1)\n"
          ]
        }
      ]
    },
    {
      "cell_type": "code",
      "source": [
        "cd  /content/meshtalk\n"
      ],
      "metadata": {
        "colab": {
          "base_uri": "https://localhost:8080/"
        },
        "id": "1GXVlYwK8iam",
        "outputId": "41f704eb-a8d1-44cb-8c42-9a893ec9b8ad"
      },
      "execution_count": null,
      "outputs": [
        {
          "output_type": "stream",
          "name": "stdout",
          "text": [
            "/content/meshtalk\n"
          ]
        }
      ]
    },
    {
      "cell_type": "code",
      "source": [
        "!python animate_face.py --model_dir /content/drive/MyDrive/meshtalk/pretrained_models --audio_file /content/meshtalk/assets/alwin_voice.wav --output output2.mp4"
      ],
      "metadata": {
        "colab": {
          "base_uri": "https://localhost:8080/"
        },
        "id": "-9KwcQ5K8rz-",
        "outputId": "0b3f5744-d3d4-4af6-9a66-ce2fbe1a9c2c"
      },
      "execution_count": null,
      "outputs": [
        {
          "output_type": "stream",
          "name": "stdout",
          "text": [
            "load assets...\n",
            "/usr/local/lib/python3.7/dist-packages/pytorch3d/io/obj_io.py:530: UserWarning: No mtl file provided\n",
            "  warnings.warn(\"No mtl file provided\")\n",
            "load models...\n",
            "Loaded: /content/drive/MyDrive/meshtalk/pretrained_models/vertex_unet.pkl\n",
            "Loaded: /content/drive/MyDrive/meshtalk/pretrained_models/context_model.pkl\n",
            "Loaded: /content/drive/MyDrive/meshtalk/pretrained_models/encoder.pkl\n",
            "animate face mesh...\n",
            "tensor([[[ -59.2758,  -15.8694,  -60.5253],\n",
            "         [ -36.6576,  -61.8134,   -1.6806],\n",
            "         [ -21.6312,  -64.3579,   27.7246],\n",
            "         ...,\n",
            "         [  40.1575,  -92.8366, -113.8681],\n",
            "         [  29.5192,  -93.8239, -119.5178],\n",
            "         [  18.6569,  -95.9238, -123.1814]],\n",
            "\n",
            "        [[ -59.2663,  -15.8737,  -60.5265],\n",
            "         [ -36.9497,  -62.4082,   -2.1156],\n",
            "         [ -22.0057,  -66.1928,   26.4370],\n",
            "         ...,\n",
            "         [  40.1575,  -92.8359, -113.8682],\n",
            "         [  29.5193,  -93.8232, -119.5178],\n",
            "         [  18.6569,  -95.9233, -123.1814]],\n",
            "\n",
            "        [[ -59.2614,  -15.8753,  -60.5269],\n",
            "         [ -37.0342,  -62.6378,   -2.2964],\n",
            "         [ -22.0920,  -66.8621,   25.9792],\n",
            "         ...,\n",
            "         [  40.1575,  -92.8356, -113.8683],\n",
            "         [  29.5193,  -93.8229, -119.5179],\n",
            "         [  18.6569,  -95.9231, -123.1815]],\n",
            "\n",
            "        ...,\n",
            "\n",
            "        [[ -59.2903,  -15.8608,  -60.5258],\n",
            "         [ -35.9126,  -59.8812,   -0.2742],\n",
            "         [ -20.9606,  -58.4323,   31.4104],\n",
            "         ...,\n",
            "         [  40.1575,  -92.8385, -113.8678],\n",
            "         [  29.5192,  -93.8258, -119.5175],\n",
            "         [  18.6569,  -95.9255, -123.1812]],\n",
            "\n",
            "        [[ -59.2854,  -15.8610,  -60.5264],\n",
            "         [ -35.9224,  -59.8527,   -0.2881],\n",
            "         [ -20.9600,  -58.3087,   31.4741],\n",
            "         ...,\n",
            "         [  40.1575,  -92.8384, -113.8678],\n",
            "         [  29.5192,  -93.8258, -119.5175],\n",
            "         [  18.6569,  -95.9255, -123.1812]],\n",
            "\n",
            "        [[ -59.2778,  -15.8617,  -60.5274],\n",
            "         [ -35.9232,  -59.8450,   -0.3233],\n",
            "         [ -20.9480,  -58.2563,   31.4844],\n",
            "         ...,\n",
            "         [  40.1575,  -92.8384, -113.8678],\n",
            "         [  29.5192,  -93.8258, -119.5175],\n",
            "         [  18.6569,  -95.9256, -123.1812]]], device='cuda:0')\n",
            "tensor([[[ -59.2757,  -15.8694,  -60.5254],\n",
            "         [ -36.6614,  -61.8215,   -1.6867],\n",
            "         [ -21.6314,  -64.3588,   27.7240],\n",
            "         ...,\n",
            "         [  40.1575,  -92.8362, -113.8681],\n",
            "         [  29.5192,  -93.8235, -119.5178],\n",
            "         [  18.6569,  -95.9236, -123.1814]],\n",
            "\n",
            "        [[ -59.2663,  -15.8737,  -60.5265],\n",
            "         [ -36.9465,  -62.4028,   -2.1120],\n",
            "         [ -22.0055,  -66.1921,   26.4374],\n",
            "         ...,\n",
            "         [  40.1575,  -92.8361, -113.8682],\n",
            "         [  29.5193,  -93.8234, -119.5178],\n",
            "         [  18.6569,  -95.9235, -123.1814]],\n",
            "\n",
            "        [[ -59.2615,  -15.8753,  -60.5269],\n",
            "         [ -37.0287,  -62.6275,   -2.2893],\n",
            "         [ -22.0918,  -66.8610,   25.9800],\n",
            "         ...,\n",
            "         [  40.1575,  -92.8360, -113.8682],\n",
            "         [  29.5193,  -93.8233, -119.5178],\n",
            "         [  18.6569,  -95.9234, -123.1814]],\n",
            "\n",
            "        ...,\n",
            "\n",
            "        [[ -59.2901,  -15.8608,  -60.5258],\n",
            "         [ -35.9130,  -59.8810,   -0.2749],\n",
            "         [ -20.9606,  -58.4322,   31.4104],\n",
            "         ...,\n",
            "         [  40.1575,  -92.8384, -113.8678],\n",
            "         [  29.5192,  -93.8258, -119.5175],\n",
            "         [  18.6569,  -95.9255, -123.1812]],\n",
            "\n",
            "        [[ -59.2853,  -15.8610,  -60.5264],\n",
            "         [ -35.9225,  -59.8530,   -0.2886],\n",
            "         [ -20.9600,  -58.3087,   31.4741],\n",
            "         ...,\n",
            "         [  40.1575,  -92.8384, -113.8678],\n",
            "         [  29.5192,  -93.8258, -119.5175],\n",
            "         [  18.6569,  -95.9255, -123.1812]],\n",
            "\n",
            "        [[ -59.2779,  -15.8617,  -60.5274],\n",
            "         [ -35.9232,  -59.8453,   -0.3230],\n",
            "         [ -20.9480,  -58.2564,   31.4844],\n",
            "         ...,\n",
            "         [  40.1575,  -92.8384, -113.8678],\n",
            "         [  29.5192,  -93.8258, -119.5175],\n",
            "         [  18.6569,  -95.9255, -123.1812]]], device='cuda:0')\n",
            "render...\n",
            "done\n"
          ]
        }
      ]
    },
    {
      "cell_type": "code",
      "source": [
        "!pip install fvcore "
      ],
      "metadata": {
        "colab": {
          "base_uri": "https://localhost:8080/"
        },
        "id": "H5_azQwh9MLq",
        "outputId": "4c122a5f-e384-4939-d7f0-df3a50ea236c"
      },
      "execution_count": null,
      "outputs": [
        {
          "output_type": "stream",
          "name": "stdout",
          "text": [
            "Looking in indexes: https://pypi.org/simple, https://us-python.pkg.dev/colab-wheels/public/simple/\n",
            "Requirement already satisfied: fvcore in /usr/local/lib/python3.7/dist-packages (0.1.5.post20220512)\n",
            "Requirement already satisfied: yacs>=0.1.6 in /usr/local/lib/python3.7/dist-packages (from fvcore) (0.1.8)\n",
            "Requirement already satisfied: numpy in /usr/local/lib/python3.7/dist-packages (from fvcore) (1.21.6)\n",
            "Requirement already satisfied: termcolor>=1.1 in /usr/local/lib/python3.7/dist-packages (from fvcore) (1.1.0)\n",
            "Requirement already satisfied: pyyaml>=5.1 in /usr/local/lib/python3.7/dist-packages (from fvcore) (6.0)\n",
            "Requirement already satisfied: Pillow in /usr/local/lib/python3.7/dist-packages (from fvcore) (7.1.2)\n",
            "Requirement already satisfied: tqdm in /usr/local/lib/python3.7/dist-packages (from fvcore) (4.64.0)\n",
            "Requirement already satisfied: iopath>=0.1.7 in /usr/local/lib/python3.7/dist-packages (from fvcore) (0.1.10)\n",
            "Requirement already satisfied: tabulate in /usr/local/lib/python3.7/dist-packages (from fvcore) (0.8.10)\n",
            "Requirement already satisfied: typing-extensions in /usr/local/lib/python3.7/dist-packages (from iopath>=0.1.7->fvcore) (4.1.1)\n",
            "Requirement already satisfied: portalocker in /usr/local/lib/python3.7/dist-packages (from iopath>=0.1.7->fvcore) (2.5.1)\n"
          ]
        }
      ]
    },
    {
      "cell_type": "code",
      "source": [
        ""
      ],
      "metadata": {
        "colab": {
          "base_uri": "https://localhost:8080/"
        },
        "id": "EmMTAlpe-mCh",
        "outputId": "fbdc53b3-9f08-4baf-b16b-8b48f86ec3e1"
      },
      "execution_count": null,
      "outputs": [
        {
          "output_type": "stream",
          "name": "stdout",
          "text": [
            "/bin/bash: conda: command not found\n"
          ]
        }
      ]
    },
    {
      "cell_type": "code",
      "source": [
        ""
      ],
      "metadata": {
        "id": "-zYGVkEt-pc9"
      },
      "execution_count": null,
      "outputs": []
    }
  ]
}